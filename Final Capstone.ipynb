{
 "cells": [
  {
   "cell_type": "code",
   "execution_count": null,
   "metadata": {},
   "outputs": [],
   "source": [
    "import datetime\n",
    "from random import shuffle"
   ]
  },
  {
   "cell_type": "code",
   "execution_count": 5,
   "metadata": {},
   "outputs": [],
   "source": [
    "fruits = {'citrus' : ['oranges','grapefruit','mandarins','limes'], 'stone_fruit' : ['nectarines','apricots','peaches','plums'], 'tropic_exotics' : ['bananas','mangoes'],\n",
    "          'berries' : ['strawberries','raspberries','blueberries','kiwifruit','passion_fruit'], 'melons' : ['watermelons','rock_melons','honeydew_melons'],\n",
    "          'other' : ['apples','pears','tomato','avocado']}\n",
    "\n",
    "vegetables = {'leafy_greens' : ['lettuce','spinach','silverbeet'],'cruciferous' : ['cabbage','cauliflower','brussels_sprouts','broccoli'], 'marrow' : ['pumpkin','cucumber','zucchini'],\n",
    "             'roots' : ['potato','sweet_potato','yam'], 'edible_plant_stem' : ['celery','asparagus'], 'allium' : ['onion','garlic','shallot']}"
   ]
  },
  {
   "cell_type": "code",
   "execution_count": null,
   "metadata": {},
   "outputs": [],
   "source": []
  },
  {
   "cell_type": "code",
   "execution_count": null,
   "metadata": {},
   "outputs": [],
   "source": []
  },
  {
   "cell_type": "code",
   "execution_count": 17,
   "metadata": {},
   "outputs": [
    {
     "name": "stdout",
     "output_type": "stream",
     "text": [
      "<enumerate object at 0x000002C6D7E90180>\n",
      "<enumerate object at 0x000002C6D7E90180>\n",
      "<enumerate object at 0x000002C6D7E92E00>\n",
      "<enumerate object at 0x000002C6D7E92E00>\n",
      "<enumerate object at 0x000002C6D7E92E00>\n",
      "<enumerate object at 0x000002C6D7E92E00>\n"
     ]
    }
   ],
   "source": [
    "for x in range (len(fruits)):\n",
    "    print(enumerate(fruits.keys()))"
   ]
  },
  {
   "cell_type": "code",
   "execution_count": 9,
   "metadata": {},
   "outputs": [
    {
     "ename": "ModuleNotFoundError",
     "evalue": "No module named 'date'",
     "output_type": "error",
     "traceback": [
      "\u001b[1;31m---------------------------------------------------------------------------\u001b[0m",
      "\u001b[1;31mModuleNotFoundError\u001b[0m                       Traceback (most recent call last)",
      "\u001b[1;32m<ipython-input-9-ebf959d60fa5>\u001b[0m in \u001b[0;36m<module>\u001b[1;34m\u001b[0m\n\u001b[1;32m----> 1\u001b[1;33m \u001b[1;32mimport\u001b[0m \u001b[0mdate\u001b[0m\u001b[1;33m\u001b[0m\u001b[1;33m\u001b[0m\u001b[0m\n\u001b[0m",
      "\u001b[1;31mModuleNotFoundError\u001b[0m: No module named 'date'"
     ]
    }
   ],
   "source": [
    "show welcome display indicating:\n",
    "    - current date and time\n",
    "    - show random nutritional facts based on the day, but we cant use a CSV format, consider online repository\n",
    "    - Have a rating for the smoothie or meal the user makes, separated into the user list (allow user to delete and change rating)"
   ]
  },
  {
   "cell_type": "code",
   "execution_count": null,
   "metadata": {},
   "outputs": [],
   "source": []
  }
 ],
 "metadata": {
  "kernelspec": {
   "display_name": "Python 3",
   "language": "python",
   "name": "python3"
  },
  "language_info": {
   "codemirror_mode": {
    "name": "ipython",
    "version": 3
   },
   "file_extension": ".py",
   "mimetype": "text/x-python",
   "name": "python",
   "nbconvert_exporter": "python",
   "pygments_lexer": "ipython3",
   "version": "3.8.3"
  }
 },
 "nbformat": 4,
 "nbformat_minor": 4
}
