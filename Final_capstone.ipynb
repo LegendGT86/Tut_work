{
 "cells": [
  {
   "cell_type": "code",
   "execution_count": 1,
   "metadata": {},
   "outputs": [],
   "source": [
    "#                     --------------------------------------- Daily financial databoard for users -----------------------------------"
   ]
  },
  {
   "cell_type": "code",
   "execution_count": 19,
   "metadata": {},
   "outputs": [],
   "source": [
    "import datetime\n",
    "import getpass\n",
    "from os import system\n",
    "#use getpass.getpass when entering in information\n",
    "#userslist = 0-name 1-password 3-bdate\n",
    "\n",
    "       "
   ]
  },
  {
   "cell_type": "code",
   "execution_count": 3,
   "metadata": {},
   "outputs": [],
   "source": [
    "class user_profile():\n",
    "    user_list = {}\n",
    "    \n",
    "\n",
    "    def log_in_new():\n",
    "        \n",
    "        while True:\n",
    "            print('Lets get a quick profile built')\n",
    "            new_name = input('please enter your first name: ').lower().capitalize()\n",
    "            new_email = input('please enter your email address, we wont send you emails but need it for password/username recovery.').lower()\n",
    "            new_pw =input('please enter a 4 digit password: ')\n",
    "            new_dt_of_birth = input('please enter your date of birth in the format yyyy-mm-dd: ')\n",
    "            print(f'is this information correct: \\n name: {new_name} \\n email: {new_email} \\n password: {new_pw} \\n d.o.b: {new_dt_of_birth}')\n",
    "            response = input('Y or N').lower()\n",
    "            if response == 'y':\n",
    "                user_profile.user_list[new_email] = [new_name,new_pw,new_dt_of_birth]\n",
    "#                 system('cls')\n",
    "                return new_email\n",
    "                break\n",
    "    \n",
    "    def log_in_existing(email_given):\n",
    "        \n",
    "        if email_given not in user_list.keys() :\n",
    "            for x in range(3): \n",
    "                print('your email address cannot be found on our systems, please retype it once more')\n",
    "                reenter_email = input('please enter your email address, we wont send you emails but need it for password/username recovery.').lower()\n",
    "                if reenter_email in user_list.keys() :\n",
    "#                     system('cls')\n",
    "                    print ('confirmed')\n",
    "                    return reenter_email\n",
    "                    break\n",
    "                    \n",
    "        elif email_given in user_list.keys():\n",
    "            while True:\n",
    "                login_pw = getpass.getpass('Password please: ')\n",
    "                if login_pw == user_list[email_given][1]:\n",
    "                    print ('confirmed password')\n",
    "                    return email_given\n",
    "                    break\n",
    "                elif login_pw != user_list[email_given][1]:\n",
    "                    print( 'Sorry, that password is incorrect')\n",
    "                    \n",
    "    def edit_acc(email_address):\n",
    "        detail_to_amend = input ('If you would like to change details, please select an option below \\n 1 - name \\n 2 - password \\n 3 - date of birth').lower()\n",
    "        if detail_to_amend == '1':\n",
    "            userlist[email_address][0] = input('enter your first name').lower().capitalize()\n",
    "        elif detail_to_amend == '2':\n",
    "            userlist[email_address][1] = input('enter your new password').lower()\n",
    "        elif detail_to_amend == '3':\n",
    "            userlist[email_address][2] = input('enter your date of birth in the format YYYY-MM-DD')\n",
    "            \n",
    "            \n",
    "    def special_days(active_user_email):\n",
    "        import random\n",
    "        output_word = ''\n",
    "        quotes = ['Success is not final; failure is not fatal: it is the courage to continue that counts','Play by the rules, but be ferocious',\n",
    "                  'Business opportunities are like buses, there’s always another one coming','Every problem is a gift—without problems we would not grow',\n",
    "                  'Success usually comes to those who are too busy to be looking for it','And the day came when the risk to remain tight in a bud was more painful than the risk it took to blossom',\n",
    "                 'There’s no shortage of remarkable ideas, what’s missing is the will to execute them','I don’t know the word ‘quit.’ Either I never did, or I have abolished it',\n",
    "                 'Far and away the best prize that life offers is the chance to work hard at work worth doing']\n",
    "        user_bdate = user_list[active_user_email][2]\n",
    "        date_time_obj = datetime.datetime.strptime(user_bdate, '%Y-%m-%d')\n",
    "        date_dist = datetime.date.today() - date_time_obj.date()\n",
    "        output_word = ''\n",
    "\n",
    "        if date_dist%365 == 0:\n",
    "            output_word = f'Happy Birthday {home_page.active_user_name}'\n",
    "        else:\n",
    "            output_word = f'Todays quote: {random.choice(quotes)}'  \n",
    "        return output_word"
   ]
  },
  {
   "cell_type": "code",
   "execution_count": null,
   "metadata": {},
   "outputs": [],
   "source": [
    "class home_page ():\n",
    "    from IPython.display import clear_output\n",
    "    active_user_email = ''\n",
    "    active_user_name = ''\n",
    "    curr_date = datetime.date.today()\n",
    "    \n",
    "    def log_in():\n",
    "        email_addr = input(\"please enter your email if an existing user, else type 'new' \").lower().strip()\n",
    "        if email_addr == 'new':\n",
    "            active_user_email = user_profile.log_in_new()\n",
    "            active_user_name = user_profile.user_list[active_user_email][0]\n",
    "        else:\n",
    "            active_user_email = user_profile.log_in_existing(email_addr)\n",
    "            active_user_name = user_profile.user_list[active_user_email][0]\n",
    "            \n",
    "    def action_required():\n",
    "        processed = False\n",
    "        print ('before continuing, would you like to amend any account details or proceed?')\n",
    "        amend_resp = input('amend please \"a\" or proceed as is \"p\" ').lower()\n",
    "        while True:\n",
    "            \n",
    "            if amend_resp == 'p':\n",
    "                break\n",
    "            elif amend_resp == 'a':\n",
    "                edit_acc(email_addr)\n",
    "                break\n",
    "               \n",
    "    def dashboard():\n",
    "        print ( f'Goodday {active_user_name} on this fine {curr_date} , here is todays financial indexes:')\n",
    "\n",
    "        for i in range(10):\n",
    "        clear_output(wait=True)\n",
    "        print(i, flush=True)\n",
    "\n",
    "    \n",
    "    if __name__ == \"__main__\":\n",
    "\n",
    "        log_in()\n",
    "        action_required()\n",
    "#         system('cls')\n",
    "        special_days(active_user_email)\n",
    "        dashboard()\n",
    "    "
   ]
  },
  {
   "cell_type": "code",
   "execution_count": null,
   "metadata": {},
   "outputs": [],
   "source": []
  },
  {
   "cell_type": "code",
   "execution_count": null,
   "metadata": {},
   "outputs": [],
   "source": []
  },
  {
   "cell_type": "code",
   "execution_count": null,
   "metadata": {},
   "outputs": [],
   "source": []
  },
  {
   "cell_type": "code",
   "execution_count": null,
   "metadata": {},
   "outputs": [],
   "source": []
  },
  {
   "cell_type": "code",
   "execution_count": null,
   "metadata": {},
   "outputs": [],
   "source": [
    "# today = datetime.date.today()\n",
    "# date_time_obj = datetime.datetime.strptime(x, '%Y-%m-%d')\n",
    "# datetime.date.today() - date_time_obj.date()\n",
    "# datetime.date.today() - date_time_obj.date"
   ]
  },
  {
   "cell_type": "code",
   "execution_count": null,
   "metadata": {},
   "outputs": [],
   "source": []
  },
  {
   "cell_type": "code",
   "execution_count": null,
   "metadata": {},
   "outputs": [],
   "source": [
    "# excess = input()\n",
    "\n",
    "# try:\n",
    "#     date_time_obj2 = datetime.datetime.strptime(excess, '%Y-%m-%d')\n",
    "# except ValueError:\n",
    "#     raise \"sorry that is incorrect format, please enter date as yyyy-mm-dd\""
   ]
  },
  {
   "cell_type": "code",
   "execution_count": null,
   "metadata": {},
   "outputs": [],
   "source": []
  },
  {
   "cell_type": "code",
   "execution_count": 39,
   "metadata": {},
   "outputs": [],
   "source": [
    "# class special_days(active_user_email):\n",
    "#     import random\n",
    "#     user_bdate = user_profile.user_list[active_user_email][2]\n",
    "#     date_time_obj = datetime.datetime.strptime(x, '%Y-%m-%d')\n",
    "#     date_dist = datetime.date.today() - date_time_obj.date()\n",
    "#     output_word = ''\n",
    "#     quotes = ['Success is not final; failure is not fatal: it is the courage to continue that counts','Play by the rules, but be ferocious',\n",
    "#               'Business opportunities are like buses, there’s always another one coming','Every problem is a gift—without problems we would not grow',\n",
    "#               'Success usually comes to those who are too busy to be looking for it','And the day came when the risk to remain tight in a bud was more painful than the risk it took to blossom',\n",
    "#              'There’s no shortage of remarkable ideas, what’s missing is the will to execute them','I don’t know the word ‘quit.’ Either I never did, or I have abolished it',\n",
    "#              'Far and away the best prize that life offers is the chance to work hard at work worth doing']\n",
    "#     if date_dist%365 == 0:\n",
    "#         output_word = f'Happy Birthday {home_page.active_user_name}'\n",
    "#     else:\n",
    "#         output_word = f'Todays quote: {random.choice(quotes)}'   \n",
    "        \n",
    "# return output_word"
   ]
  },
  {
   "cell_type": "code",
   "execution_count": null,
   "metadata": {},
   "outputs": [],
   "source": []
  },
  {
   "cell_type": "code",
   "execution_count": null,
   "metadata": {},
   "outputs": [],
   "source": []
  },
  {
   "cell_type": "code",
   "execution_count": 20,
   "metadata": {},
   "outputs": [],
   "source": [
    "from pandas_datareader import data\n",
    "import matplotlib.pyplot as plt\n",
    "import pandas as pd"
   ]
  },
  {
   "cell_type": "code",
   "execution_count": 21,
   "metadata": {},
   "outputs": [],
   "source": []
  },
  {
   "cell_type": "code",
   "execution_count": null,
   "metadata": {},
   "outputs": [],
   "source": []
  },
  {
   "cell_type": "code",
   "execution_count": 25,
   "metadata": {},
   "outputs": [
    {
     "data": {
      "text/plain": [
       "<matplotlib.legend.Legend at 0x19041edaf70>"
      ]
     },
     "execution_count": 25,
     "metadata": {},
     "output_type": "execute_result"
    },
    {
     "data": {
      "image/png": "[encoded data removed]",
      "text/plain": [
       "<Figure size 1008x720 with 2 Axes>"
      ]
     },
     "metadata": {
      "needs_background": "light"
     },
     "output_type": "display_data"
    }
   ],
   "source": [
    "fig = plt.figure(figsize=(14,10))\n",
    "ax = fig.add_subplot(2, 2, 4)\n",
    "# ax.set_xlabel('common xlabel')\n",
    "plt.plot(panel_data['Close'],lw=1)\n",
    "close = panel_data['Close']\n",
    "plt.title('AAPL')\n",
    "plt.ylabel('Close Price')\n",
    "plt.grid(True)\n",
    "bx = fig.add_subplot(3,2,1)\n",
    "plt.plot(close,'k',lw=0.75,linestyle='-',label='CCI')\n",
    "plt.legend(loc=2,prop={'size':9.5})\n"
   ]
  },
  {
   "cell_type": "code",
   "execution_count": null,
   "metadata": {},
   "outputs": [],
   "source": []
  },
  {
   "cell_type": "code",
   "execution_count": 39,
   "metadata": {},
   "outputs": [],
   "source": [
    "from pandas_datareader import data\n",
    "\n",
    "tickers = ['AAPL', 'MSFT','BTC-USD']\n",
    "\n",
    "start_date = '2021-03-10'\n",
    "end_date = '2021-03-12'\n",
    "\n",
    "# User pandas_reader.data.DataReader to load the desired data. As simple as that.\n",
    "aapl = data.DataReader('AAPL', 'yahoo', start_date, end_date)\n",
    "\n",
    "# aapl = data.datareader(\"AAPL\", \"iex\",b053897e6e1c487e9ada746db41bfdc9)"
   ]
  },
  {
   "cell_type": "code",
   "execution_count": 40,
   "metadata": {},
   "outputs": [
    {
     "data": {
      "text/html": [
       "<div>\n",
       "<style scoped>\n",
       "    .dataframe tbody tr th:only-of-type {\n",
       "        vertical-align: middle;\n",
       "    }\n",
       "\n",
       "    .dataframe tbody tr th {\n",
       "        vertical-align: top;\n",
       "    }\n",
       "\n",
       "    .dataframe thead th {\n",
       "        text-align: right;\n",
       "    }\n",
       "</style>\n",
       "<table border=\"1\" class=\"dataframe\">\n",
       "  <thead>\n",
       "    <tr style=\"text-align: right;\">\n",
       "      <th></th>\n",
       "      <th>High</th>\n",
       "      <th>Low</th>\n",
       "      <th>Open</th>\n",
       "      <th>Close</th>\n",
       "      <th>Volume</th>\n",
       "      <th>Adj Close</th>\n",
       "    </tr>\n",
       "    <tr>\n",
       "      <th>Date</th>\n",
       "      <th></th>\n",
       "      <th></th>\n",
       "      <th></th>\n",
       "      <th></th>\n",
       "      <th></th>\n",
       "      <th></th>\n",
       "    </tr>\n",
       "  </thead>\n",
       "  <tbody>\n",
       "    <tr>\n",
       "      <th>2021-03-10</th>\n",
       "      <td>122.169998</td>\n",
       "      <td>119.449997</td>\n",
       "      <td>121.690002</td>\n",
       "      <td>119.980003</td>\n",
       "      <td>111760400</td>\n",
       "      <td>119.980003</td>\n",
       "    </tr>\n",
       "    <tr>\n",
       "      <th>2021-03-11</th>\n",
       "      <td>123.209999</td>\n",
       "      <td>121.260002</td>\n",
       "      <td>122.540001</td>\n",
       "      <td>121.959999</td>\n",
       "      <td>102753600</td>\n",
       "      <td>121.959999</td>\n",
       "    </tr>\n",
       "    <tr>\n",
       "      <th>2021-03-12</th>\n",
       "      <td>121.169998</td>\n",
       "      <td>119.160004</td>\n",
       "      <td>120.400002</td>\n",
       "      <td>121.029999</td>\n",
       "      <td>87963400</td>\n",
       "      <td>121.029999</td>\n",
       "    </tr>\n",
       "  </tbody>\n",
       "</table>\n",
       "</div>"
      ],
      "text/plain": [
       "                  High         Low        Open       Close     Volume  \\\n",
       "Date                                                                    \n",
       "2021-03-10  122.169998  119.449997  121.690002  119.980003  111760400   \n",
       "2021-03-11  123.209999  121.260002  122.540001  121.959999  102753600   \n",
       "2021-03-12  121.169998  119.160004  120.400002  121.029999   87963400   \n",
       "\n",
       "             Adj Close  \n",
       "Date                    \n",
       "2021-03-10  119.980003  \n",
       "2021-03-11  121.959999  \n",
       "2021-03-12  121.029999  "
      ]
     },
     "execution_count": 40,
     "metadata": {},
     "output_type": "execute_result"
    }
   ],
   "source": [
    "aapl"
   ]
  },
  {
   "cell_type": "code",
   "execution_count": 28,
   "metadata": {},
   "outputs": [],
   "source": [
    "import os\n",
    "import pandas_datareader.data as web\n",
    "from pandas_datareader import data"
   ]
  },
  {
   "cell_type": "code",
   "execution_count": 83,
   "metadata": {},
   "outputs": [
    {
     "name": "stdout",
     "output_type": "stream",
     "text": [
      "                  High         Low        Open       Close     Volume  \\\n",
      "Date                                                                    \n",
      "2021-03-10  122.169998  119.449997  121.690002  119.980003  111760400   \n",
      "2021-03-11  123.209999  121.260002  122.540001  121.959999  102753600   \n",
      "2021-03-12  121.169998  119.160004  120.400002  121.029999   87963400   \n",
      "\n",
      "             Adj Close  \n",
      "Date                    \n",
      "2021-03-10  119.980003  \n",
      "2021-03-11  121.959999  \n",
      "2021-03-12  121.029999  \n"
     ]
    }
   ],
   "source": [
    "print(panel_data)"
   ]
  },
  {
   "cell_type": "code",
   "execution_count": 82,
   "metadata": {},
   "outputs": [
    {
     "data": {
      "image/png": "[encoded data removed]",
      "text/plain": [
       "<Figure size 1800x1440 with 6 Axes>"
      ]
     },
     "metadata": {},
     "output_type": "display_data"
    }
   ],
   "source": [
    "fig = plt.figure(figsize=(25,20),constrained_layout=False)\n",
    "plt.style.use('seaborn')\n",
    "# AAPL\n",
    "fig.add_subplot(3, 3, 1)   #top and bottom left\n",
    "# plt.plot(panel_data['Close',lw=1)\n",
    "close = panel_data['Close']\n",
    "\n",
    "plt.title('AAPL')\n",
    "plt.ylabel('Value (USD)')\n",
    "plt.xticks(rotation=45)\n",
    "plt.grid(True)\n",
    "# plt.plot(panel_data['Close'],'k',lw=2,linestyle='-',label='Close',color='#00FF00')\n",
    "# plt.plot(panel_data['Open'],'k',lw=2,linestyle='-',label='Close',color='#00FF00')\n",
    "plt.plot(panel_data,'k',lw=2,linestyle='dashdot',label='Open')\n",
    "plt.legend(loc=2,prop={'size':9.5})\n",
    "\n",
    "#GOOGLE\n",
    "fig.add_subplot(3, 3, 2)   #top right\n",
    "plt.subplots_adjust\n",
    "fig.add_subplot(3, 3, 3)   #bottom right \n",
    "fig.add_subplot(3, 3, 4)   #bottom right \n",
    "fig.add_subplot(3, 3, 5)   #bottom right \n",
    "fig.add_subplot(3, 3, 6)   #bottom right \n",
    "plt.tight_layout()\n",
    "# plt.show()\n"
   ]
  },
  {
   "cell_type": "code",
   "execution_count": 232,
   "metadata": {},
   "outputs": [
    {
     "name": "stdout",
     "output_type": "stream",
     "text": [
      "[*********************100%***********************]  1 of 1 completed\n"
     ]
    },
    {
     "name": "stderr",
     "output_type": "stream",
     "text": [
      "<ipython-input-232-b799fcd6631e>:8: MatplotlibDeprecationWarning:\n",
      "\n",
      "Adding an axes using the same arguments as a previous axes currently reuses the earlier instance.  In a future version, a new instance will always be created and returned.  Meanwhile, this warning can be suppressed, and the future behavior ensured, by passing a unique label to each axes instance.\n",
      "\n",
      "<ipython-input-232-b799fcd6631e>:9: MatplotlibDeprecationWarning:\n",
      "\n",
      "Adding an axes using the same arguments as a previous axes currently reuses the earlier instance.  In a future version, a new instance will always be created and returned.  Meanwhile, this warning can be suppressed, and the future behavior ensured, by passing a unique label to each axes instance.\n",
      "\n",
      "C:\\Users\\dmath\\anaconda3\\lib\\site-packages\\mplfinance\\plotting.py:306: UserWarning:\n",
      "\n",
      "\n",
      "\n",
      " ================================================================= \n",
      "\n",
      "   WARNING: `figscale` has NO effect in External Axes Mode.\n",
      "\n",
      " ================================================================ \n",
      "\n"
     ]
    },
    {
     "name": "stdout",
     "output_type": "stream",
     "text": [
      "[*********************100%***********************]  1 of 1 completed\n"
     ]
    },
    {
     "data": {
      "text/plain": [
       "<Mpf_Figure size 640x480 with 0 Axes>"
      ]
     },
     "metadata": {},
     "output_type": "display_data"
    },
    {
     "data": {
      "image/png": "[encoded data removed]",
      "text/plain": [
       "<Figure size 800x575 with 4 Axes>"
      ]
     },
     "metadata": {},
     "output_type": "display_data"
    }
   ],
   "source": [
    "import mplfinance as fplt\n",
    "import yfinance as yf\n",
    "fplt.figure()\n",
    "mc = fplt.make_marketcolors(up='tab:green',down='tab:red',edge='lime',wick={'up':'blue','down':'red'})\n",
    "current_date = str(datetime.datetime.today().strftime(\"%A-%d-%B-%Y\"))\n",
    "s  = fplt.make_mpf_style(base_mpl_style=\"ggplot\",marketcolors=mc,mavcolors=[\"orange\"])\n",
    "data = yf.download(\"AAPL\",period=\"1mo\",group_by = 'Ticker',prepost = True)\n",
    "ax1 = fig.add_subplot(2,2,1)\n",
    "ax2 = fig.add_subplot(2,2,2)\n",
    "fplt.plot(data,ax=ax1,volume=ax2,type='candle',style=s,title=current_date,ylabel='Price ($)',mav=(2),\n",
    "          show_nontrading=True,warn_too_much_data=300,block=True,ylabel_lower='Trade \\n Volume',tight_layout=True,figscale=0.9)\n",
    "data2 = yf.download(\"MSFT\",period=\"1mo\",group_by = 'Ticker',prepost = True, legend= \"MSFT\") \n",
    "\n",
    "fplt.plot(data2,type='candle',style=s,title=current_date,ylabel='Price ($)',mav=(2),\n",
    "          volume=True,show_nontrading=True,warn_too_much_data=300,block=True,ylabel_lower='Trade \\n Volume')"
   ]
  },
  {
   "cell_type": "code",
   "execution_count": null,
   "metadata": {},
   "outputs": [],
   "source": []
  },
  {
   "cell_type": "code",
   "execution_count": null,
   "metadata": {},
   "outputs": [],
   "source": [
    "import mplfinance as fplt\n",
    "import yfinance as yf\n",
    "fplt.figure()\n",
    "mc = fplt.make_marketcolors(up='tab:green',down='tab:red',edge='lime',wick={'up':'blue','down':'red'})\n",
    "current_date = str(datetime.datetime.today().strftime(\"%A-%d-%B-%Y\"))\n",
    "s  = fplt.make_mpf_style(base_mpl_style=\"ggplot\",marketcolors=mc,mavcolors=[\"orange\"])\n",
    "data = yf.download(\"AAPL\",period=\"1mo\",prepost = True)\n",
    "data = yf.download(\"AAPL\",period=\"1mo\",prepost = True)\n",
    "data = yf.download(\"AAPL\",period=\"1mo\",prepost = True)\n",
    "data = yf.download(\"AAPL\",period=\"1mo\",prepost = True)\n",
    "\n",
    "ax1 = fig.add_subplot(2,2,1)\n",
    "ax2 = fig.add_subplot(2,2,2)\n",
    "fplt.plot(data,ax=ax1,volume=ax2,type='candle',style=s,title=current_date,ylabel='Price ($)',mav=(2),\n",
    "          show_nontrading=True,warn_too_much_data=300,block=True,ylabel_lower='Trade \\n Volume',tight_layout=True,figscale=0.9)\n",
    "data2 = yf.download(\"MSFT\",period=\"1mo\",group_by = 'Ticker',prepost = True, legend= \"MSFT\") \n",
    "\n",
    "fplt.plot(data2,type='candle',style=s,title=current_date,ylabel='Price ($)',mav=(2),\n",
    "          volume=True,show_nontrading=True,warn_too_much_data=300,block=True,ylabel_lower='Trade \\n Volume')"
   ]
  },
  {
   "cell_type": "code",
   "execution_count": 285,
   "metadata": {},
   "outputs": [
    {
     "name": "stdout",
     "output_type": "stream",
     "text": [
      "[*********************100%***********************]  1 of 1 completed\n"
     ]
    },
    {
     "ename": "AttributeError",
     "evalue": "'Mpf_Figure' object has no attribute 'grid'",
     "output_type": "error",
     "traceback": [
      "\u001b[1;31m---------------------------------------------------------------------------\u001b[0m",
      "\u001b[1;31mAttributeError\u001b[0m                            Traceback (most recent call last)",
      "\u001b[1;32m<ipython-input-285-ab3eda6525e1>\u001b[0m in \u001b[0;36m<module>\u001b[1;34m\u001b[0m\n\u001b[0;32m     16\u001b[0m \u001b[1;31m# Base design\u001b[0m\u001b[1;33m\u001b[0m\u001b[1;33m\u001b[0m\u001b[1;33m\u001b[0m\u001b[0m\n\u001b[0;32m     17\u001b[0m \u001b[0mfig\u001b[0m \u001b[1;33m=\u001b[0m \u001b[0mmpf\u001b[0m\u001b[1;33m.\u001b[0m\u001b[0mfigure\u001b[0m\u001b[1;33m(\u001b[0m\u001b[0mfigsize\u001b[0m\u001b[1;33m=\u001b[0m\u001b[1;33m(\u001b[0m\u001b[1;36m16\u001b[0m\u001b[1;33m,\u001b[0m\u001b[1;36m10\u001b[0m\u001b[1;33m)\u001b[0m\u001b[1;33m)\u001b[0m\u001b[1;33m\u001b[0m\u001b[1;33m\u001b[0m\u001b[0m\n\u001b[1;32m---> 18\u001b[1;33m \u001b[0mfig\u001b[0m\u001b[1;33m.\u001b[0m\u001b[0mgrid\u001b[0m\u001b[1;33m(\u001b[0m\u001b[1;32mTrue\u001b[0m\u001b[1;33m)\u001b[0m\u001b[1;33m\u001b[0m\u001b[1;33m\u001b[0m\u001b[0m\n\u001b[0m\u001b[0;32m     19\u001b[0m \u001b[0mmc\u001b[0m \u001b[1;33m=\u001b[0m \u001b[0mfplt\u001b[0m\u001b[1;33m.\u001b[0m\u001b[0mmake_marketcolors\u001b[0m\u001b[1;33m(\u001b[0m\u001b[0mup\u001b[0m\u001b[1;33m=\u001b[0m\u001b[1;34m'tab:green'\u001b[0m\u001b[1;33m,\u001b[0m\u001b[0mdown\u001b[0m\u001b[1;33m=\u001b[0m\u001b[1;34m'tab:red'\u001b[0m\u001b[1;33m,\u001b[0m\u001b[0medge\u001b[0m\u001b[1;33m=\u001b[0m\u001b[1;34m'lime'\u001b[0m\u001b[1;33m,\u001b[0m\u001b[0mwick\u001b[0m\u001b[1;33m=\u001b[0m\u001b[1;33m{\u001b[0m\u001b[1;34m'up'\u001b[0m\u001b[1;33m:\u001b[0m\u001b[1;34m'blue'\u001b[0m\u001b[1;33m,\u001b[0m\u001b[1;34m'down'\u001b[0m\u001b[1;33m:\u001b[0m\u001b[1;34m'red'\u001b[0m\u001b[1;33m}\u001b[0m\u001b[1;33m)\u001b[0m\u001b[1;33m\u001b[0m\u001b[1;33m\u001b[0m\u001b[0m\n\u001b[0;32m     20\u001b[0m \u001b[0mstl\u001b[0m  \u001b[1;33m=\u001b[0m \u001b[0mfplt\u001b[0m\u001b[1;33m.\u001b[0m\u001b[0mmake_mpf_style\u001b[0m\u001b[1;33m(\u001b[0m\u001b[0mbase_mpl_style\u001b[0m\u001b[1;33m=\u001b[0m\u001b[1;34m\"fast\"\u001b[0m\u001b[1;33m,\u001b[0m\u001b[0mmarketcolors\u001b[0m\u001b[1;33m=\u001b[0m\u001b[0mmc\u001b[0m\u001b[1;33m,\u001b[0m\u001b[0mmavcolors\u001b[0m\u001b[1;33m=\u001b[0m\u001b[1;33m[\u001b[0m\u001b[1;34m\"goldenrod\"\u001b[0m\u001b[1;33m]\u001b[0m\u001b[1;33m)\u001b[0m\u001b[1;33m\u001b[0m\u001b[1;33m\u001b[0m\u001b[0m\n",
      "\u001b[1;31mAttributeError\u001b[0m: 'Mpf_Figure' object has no attribute 'grid'"
     ]
    },
    {
     "data": {
      "text/plain": [
       "<Mpf_Figure size 1600x1000 with 0 Axes>"
      ]
     },
     "metadata": {},
     "output_type": "display_data"
    }
   ],
   "source": [
    "# Tickers (companies)\n",
    "aapl =  yf.download(\"AAPL\",period=\"1mo\",prepost = True)\n",
    "# msft =  yf.download(\"MSFT\",period=\"1mo\",prepost = True)\n",
    "# bit_cn =  yf.download(\"BTC-USD\",period=\"1mo\",prepost = True)\n",
    "# tesla =  yf.download(\"TSLA\",period=\"1mo\",prepost = True)\n",
    "\n",
    "# #  (markets)\n",
    "\n",
    "# nsdq =  yf.download(\"^IXIC\",period=\"1mo\",prepost = True)\n",
    "# sp_500 =  yf.download(\"^GSPC\",period=\"1mo\",prepost = True)\n",
    "# nyse =  yf.download(\"^NYA\",period=\"1mo\",prepost = True)\n",
    "# dow_30 =  yf.download(\"^DJI\",period=\"1mo\",prepost = True)\n",
    "\n",
    "\n",
    "\n",
    "# Base design\n",
    "fig = mpf.figure(figsize=(16,10))\n",
    "\n",
    "mc = fplt.make_marketcolors(up='tab:green',down='tab:red',edge='lime',wick={'up':'blue','down':'red'})\n",
    "stl  = fplt.make_mpf_style(base_mpl_style=\"fast\",marketcolors=mc,mavcolors=[\"goldenrod\"])\n",
    "mpf.background='black'\n",
    "# subplot 1 - AAPL\n",
    "ax1 = fig.add_subplot(2,2,1,style=stl)\n",
    "mpf.plot(aapl,ax=ax1,ylabel=\"Price( $ USD)\",type='candle',axtitle='Apple Inc',xrotation=20,mav =(1,25),panel_ratios = (1,1))\n",
    "\n",
    "# # subplot 2 - MSFT\n",
    "# ax2 = fig.add_subplot(2,2,2,style=stl)\n",
    "# mpf.plot(msft,ax=ax2,type='candle',axtitle='Microsoft',xrotation=20)\n",
    "\n",
    "# # subplot 3 - Bit_coin\n",
    "# ax3 = fig.add_subplot(2,2,3,style=stl)\n",
    "# mpf.plot(bit_cn,ax=ax3,type='candle',axtitle='Bit_coin',xrotation=20)\n",
    "\n",
    "# # subplot 4 - Tesla\n",
    "# ax4 = fig.add_subplot(2,2,4,style=stl)\n",
    "# mpf.plot(tesla,ax=ax4,type='candle',axtitle='Tesla mc',xrotation=20)\n",
    "\n",
    "# mpf.plot(aapl,ax=ax1,type='candle',axtitle='blueskies',xrotation=20)\n",
    "# mpf.plot(df,type='candle',ax=ax2,axtitle='yahoo',xrotation=20)\n",
    "# mpf.plot(df,ax=ax3,type='candle',axtitle='nightclouds')\n",
    "# mpf.plot(df,type='candle',ax=ax4,axtitle='starsandstripes')"
   ]
  },
  {
   "cell_type": "code",
   "execution_count": 234,
   "metadata": {},
   "outputs": [],
   "source": [
    "import mplfinance as mpf"
   ]
  },
  {
   "cell_type": "code",
   "execution_count": null,
   "metadata": {},
   "outputs": [],
   "source": []
  },
  {
   "cell_type": "code",
   "execution_count": null,
   "metadata": {},
   "outputs": [],
   "source": [
    "gold = GC=F\n",
    "cude oil = CL=F\n",
    "rand = USD/ZAR (ZAR=X)\n",
    "EUR/ZAR (EURZAR=X)"
   ]
  },
  {
   "cell_type": "code",
   "execution_count": null,
   "metadata": {},
   "outputs": [],
   "source": [
    "tickers = ['AAPL', 'MSFT','BTC-USD']\n",
    "\n",
    "start_date = '2021-03-10'\n",
    "end_date = '2021-03-12'\n",
    "\n",
    "# User pandas_reader.data.DataReader to load the desired data. As simple as that.\n",
    "aapl = data.DataReader(tickers, 'yahoo', start_date, end_date)"
   ]
  },
  {
   "cell_type": "code",
   "execution_count": 56,
   "metadata": {},
   "outputs": [],
   "source": []
  },
  {
   "cell_type": "code",
   "execution_count": null,
   "metadata": {},
   "outputs": [],
   "source": [
    "from pandas_datareader import data\n",
    "\n",
    "tickers = ['AAPL', 'MSFT','BTC-USD']\n",
    "\n",
    "start_date = '2021-03-10'\n",
    "end_date = '2021-03-12'\n",
    "\n",
    "# User pandas_reader.data.DataReader to load the desired data. As simple as that.\n",
    "# aapl = data.DataReader(tickers, 'yahoo', start_date, end_date)"
   ]
  },
  {
   "cell_type": "code",
   "execution_count": 243,
   "metadata": {},
   "outputs": [
    {
     "data": {
      "text/plain": [
       "{'GBP': 0.0486666817,\n",
       " 'HKD': 0.5185126546,\n",
       " 'IDR': 962.6348585258,\n",
       " 'ILS': 0.22103793,\n",
       " 'DKK': 0.4204645692,\n",
       " 'INR': 4.8492807545,\n",
       " 'CHF': 0.0624533508,\n",
       " 'MXN': 1.3944767376,\n",
       " 'CZK': 1.4833306946,\n",
       " 'SGD': 0.0899000294,\n",
       " 'THB': 2.0777825526,\n",
       " 'HRK': 0.4283129396,\n",
       " 'EUR': 0.0565444553,\n",
       " 'MYR': 0.2767116007,\n",
       " 'NOK': 0.574791351,\n",
       " 'CNY': 0.4366362834,\n",
       " 'BGN': 0.1105896456,\n",
       " 'PHP': 3.2419763418,\n",
       " 'PLN': 0.2623606179,\n",
       " 'ZAR': 1.0,\n",
       " 'CAD': 0.0839628616,\n",
       " 'ISK': 8.4703593966,\n",
       " 'BRL': 0.3786216724,\n",
       " 'RON': 0.2763044806,\n",
       " 'NZD': 0.0958315428,\n",
       " 'TRY': 0.5332877208,\n",
       " 'JPY': 7.2800986135,\n",
       " 'RUB': 5.0896512338,\n",
       " 'KRW': 75.8193291566,\n",
       " 'USD': 0.0667337661,\n",
       " 'AUD': 0.087915319,\n",
       " 'HUF': 20.6262863864,\n",
       " 'SEK': 0.5763859046}"
      ]
     },
     "execution_count": 243,
     "metadata": {},
     "output_type": "execute_result"
    }
   ],
   "source": [
    "from forex_python.converter import CurrencyRates\n",
    "curr = CurrencyRates()\n",
    "curr.get_rates('ZAR')"
   ]
  },
  {
   "cell_type": "code",
   "execution_count": null,
   "metadata": {},
   "outputs": [],
   "source": []
  },
  {
   "cell_type": "code",
   "execution_count": null,
   "metadata": {},
   "outputs": [],
   "source": []
  },
  {
   "cell_type": "code",
   "execution_count": null,
   "metadata": {},
   "outputs": [],
   "source": []
  },
  {
   "cell_type": "code",
   "execution_count": null,
   "metadata": {},
   "outputs": [],
   "source": [
    "\n"
   ]
  },
  {
   "cell_type": "code",
   "execution_count": null,
   "metadata": {},
   "outputs": [],
   "source": []
  },
  {
   "cell_type": "code",
   "execution_count": null,
   "metadata": {},
   "outputs": [],
   "source": []
  }
 ],
 "metadata": {
  "kernelspec": {
   "display_name": "Python 3",
   "language": "python",
   "name": "python3"
  },
  "language_info": {
   "codemirror_mode": {
    "name": "ipython",
    "version": 3
   },
   "file_extension": ".py",
   "mimetype": "text/x-python",
   "name": "python",
   "nbconvert_exporter": "python",
   "pygments_lexer": "ipython3",
   "version": "3.8.3"
  }
 },
 "nbformat": 4,
 "nbformat_minor": 4
}
